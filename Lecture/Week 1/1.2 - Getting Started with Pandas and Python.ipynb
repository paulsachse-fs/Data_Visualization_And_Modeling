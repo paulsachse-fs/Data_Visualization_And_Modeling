{
 "cells": [
  {
   "cell_type": "markdown",
   "metadata": {},
   "source": [
    "# Some Python Basics\n",
    "\n",
    "## Variables"
   ]
  },
  {
   "cell_type": "markdown",
   "metadata": {},
   "source": [
    "Variables in Python are dynamically typed, meaning that the type is inferred from assignment, which is often referred to as duck typing (if it acts like a duck and looks like a duck, its a duck).  \n"
   ]
  },
  {
   "cell_type": "code",
   "execution_count": null,
   "metadata": {},
   "outputs": [],
   "source": []
  },
  {
   "cell_type": "code",
   "execution_count": null,
   "metadata": {
    "tags": []
   },
   "outputs": [],
   "source": []
  },
  {
   "cell_type": "code",
   "execution_count": null,
   "metadata": {
    "tags": []
   },
   "outputs": [],
   "source": []
  },
  {
   "cell_type": "code",
   "execution_count": null,
   "metadata": {
    "tags": []
   },
   "outputs": [],
   "source": []
  },
  {
   "cell_type": "code",
   "execution_count": null,
   "metadata": {
    "tags": []
   },
   "outputs": [],
   "source": []
  },
  {
   "cell_type": "markdown",
   "metadata": {},
   "source": [
    "To get more inforation on a variables type, you can use either the type() function."
   ]
  },
  {
   "cell_type": "code",
   "execution_count": null,
   "metadata": {},
   "outputs": [],
   "source": []
  },
  {
   "cell_type": "markdown",
   "metadata": {},
   "source": [
    "We can also get input from users to fill our variables."
   ]
  },
  {
   "cell_type": "code",
   "execution_count": null,
   "metadata": {
    "tags": []
   },
   "outputs": [],
   "source": []
  },
  {
   "cell_type": "code",
   "execution_count": null,
   "metadata": {
    "tags": []
   },
   "outputs": [],
   "source": []
  },
  {
   "cell_type": "markdown",
   "metadata": {},
   "source": [
    "## Booleans"
   ]
  },
  {
   "cell_type": "markdown",
   "metadata": {},
   "source": [
    "Booleans can be handy when working with dataframes, as we will see later.  You can also add them and they are interpreted as False = 0 and True = 1"
   ]
  },
  {
   "cell_type": "code",
   "execution_count": null,
   "metadata": {
    "tags": []
   },
   "outputs": [],
   "source": []
  },
  {
   "cell_type": "markdown",
   "metadata": {},
   "source": [
    "## Strings\n",
    "Strings in Python are created with ' or \" and are immutable, if changes need to be made to a string a new one is returned.  The default encoding for strings in Python is Unicode UTF-8, this means that they are automatically compatible with different languages.  Python strings work similar to STL strings since they are classes with support functions built in, however in Python the amount of functionality is much larger."
   ]
  },
  {
   "cell_type": "code",
   "execution_count": null,
   "metadata": {},
   "outputs": [],
   "source": [
    "\n"
   ]
  },
  {
   "cell_type": "markdown",
   "metadata": {},
   "source": [
    "## Lists\n",
    "In c++ choosing which container to use is actually very important (list, queue, stack, vector, array?), in Python this choice is simplified into a single container that has the functionality of everything.  To create a list use the square brackets [].  Notice that the types don't have to match, we don't care about variable types."
   ]
  },
  {
   "cell_type": "code",
   "execution_count": null,
   "metadata": {},
   "outputs": [],
   "source": []
  },
  {
   "cell_type": "markdown",
   "metadata": {},
   "source": [
    "# Pandas\n",
    "In the last lesson, we got to see Pandas in action by using it to make some visualizations of the data science salaries data.  Let's take some time to explore some of the cool features of Python and Pandas.\n",
    "\n",
    "## The History of Pandas\n",
    "\n",
    "Origins:\n",
    "\n",
    "* 2008: The Pandas project was started by Wes McKinney when he was working at AQR Capital Management. The main motivation was to have a flexible tool to perform quantitative analysis on financial data. The name \"pandas\" is derived from the term \"panel data,\" a common term for data that involves observations over time.\n",
    "\n",
    "Early Development:\n",
    "\n",
    "* 2009: Wes McKinney released the first public version of pandas. The initial versions laid the foundation with data structures like Series and DataFrame, which have since become staples for data manipulation in Python.\n",
    "\n",
    "Increasing Adoption:\n",
    "\n",
    "* 2010s: As data science and Python grew in popularity during the 2010s, so did pandas. It quickly became one of the cornerstones of the scientific stack in Python alongside libraries like NumPy, SciPy, and Matplotlib.\n",
    "The library received significant contributions from many developers worldwide, enhancing its capabilities and making it more robust.\n",
    "\n",
    "Books and Documentation:\n",
    "\n",
    "* 2012: Wes McKinney published \"Python for Data Analysis,\" which prominently features pandas and its application in data analysis. This book played a crucial role in introducing many individuals to pandas and data analysis in Python.\n",
    "\n",
    "\n",
    "Pandas is often seen as a gateway to data science in Python. Its simple yet powerful interface makes it a favorite for beginners and professionals alike.\n",
    "With the rise of big data tools like Apache Spark, Dask, and Vaex, pandas also integrates with these tools, allowing users to scale their analyses when necessary.\n",
    "\n",
    "## DataFrames and Series\n",
    "\n",
    "The DataFrame is the primary structure we will be using for this class.  It is an associative, two dimensional data structure. Imagine a spreadsheet page,  SQL table, or flat file.  The series object is a one dimensional data structure that represents a single column of data.\n",
    "\n",
    "We can manually create a DataFrame from dictionaries, lists, series, and much else.  We can also add new features to a DataFrame, or even combine multiple DataFrames.  If our data is provided to us we can read or write to a variety of different formats: CSV, Excel, SQL, JSON, URL, clipboard, etc.\n",
    "\n",
    "A series object can be thought of as single column of a DataFrame."
   ]
  },
  {
   "cell_type": "markdown",
   "metadata": {},
   "source": [
    "## Common useful Pandas methods\n",
    "\n",
    "### DataFrame Creation and Input/Output\n",
    "- `pd.DataFrame()`: Create a DataFrame.\n",
    "- `pd.read_csv()`: Read a CSV file into a DataFrame.\n",
    "- `pd.read_excel()`: Read an Excel file into a DataFrame.\n",
    "- `df.to_csv()`: Write a DataFrame to a CSV file.\n",
    "- `df.to_excel()`: Write a DataFrame to an Excel file.\n",
    "\n",
    "### Viewing and Inspecting Data\n",
    "- `df.head()`: View the first few rows of the DataFrame.\n",
    "- `df.tail()`: View the last few rows of the DataFrame.\n",
    "- `df.info()`: Get a concise summary of the DataFrame.\n",
    "- `df.describe()`: Generate descriptive statistics.\n",
    "- `df.shape`: Get the dimensions of the DataFrame.\n",
    "- `df.columns`: Get the column labels.\n",
    "- `df.index`: Get the row labels.\n",
    "\n",
    "### Selection and Filtering\n",
    "- `df.loc[]`: Access a group of rows and columns by labels.\n",
    "- `df.iloc[]`: Access a group of rows and columns by integer position.\n",
    "- `df[df['column'] > value]`: Filter rows based on column values.\n",
    "- `df.query()`: Query the DataFrame with a boolean expression.\n",
    "\n",
    "### Grouping and Aggregation\n",
    "- `df.groupby()`: Group data by one or more columns.\n",
    "- `df.agg()`: Aggregate using one or more operations over the specified axis.\n",
    "- `df.size()`: Get the size of the DataFrame.\n",
    "- `df.sum()`: Compute the sum of values.\n",
    "- `df.mean()`: Compute the mean of values.\n",
    "- `df.median()`: Compute the median of values.\n",
    "- `df.min()`: Compute the minimum of values.\n",
    "- `df.max()`: Compute the maximum of values.\n",
    "- `df.count()`: Count the number of non-NA/null observations.\n",
    "\n",
    "### Data Cleaning and Preparation\n",
    "- `df.drop()`: Drop specified labels from rows or columns.\n",
    "- `df.dropna()`: Remove missing values.\n",
    "- `df.fillna()`: Fill missing values.\n",
    "- `df.replace()`: Replace values.\n",
    "- `df.rename()`: Rename labels.\n",
    "- `df.astype()`: Cast a pandas object to a specified dtype.\n",
    "- `df.sort_values()`: Sort by the values along either axis.\n",
    "- `df.sort_index()`: Sort by the index.\n",
    "- `df.set_index()`: Set the DataFrame index using existing columns.\n",
    "- `df.reset_index()`: Reset the index, or a level of it.\n",
    "\n",
    "### Merging and Joining\n",
    "- `pd.merge()`: Merge DataFrame objects by performing a database-style join.\n",
    "- `df.join()`: Join columns with other DataFrame.\n",
    "- `pd.concat()`: Concatenate pandas objects along a particular axis.\n",
    "\n",
    "### Date and Time\n",
    "- `pd.to_datetime()`: Convert argument to datetime.\n",
    "- `df['column'].dt`: Accessor object for datetime-like properties.\n",
    "\n",
    "### String Methods\n",
    "- `df['column'].str`: Accessor object for string methods.\n",
    "- `df['column'].str.contains()`: Test if pattern or regex is contained within a string of a Series or Index.\n",
    "- `df['column'].str.replace()`: Replace occurrences of pattern/regex/string with some other string.\n",
    "\n",
    "### Statistical Functions\n",
    "- `df.corr()`: Compute pairwise correlation of columns.\n",
    "- `df.cov()`: Compute pairwise covariance of columns.\n",
    "- `df.var()`: Compute variance of columns.\n",
    "- `df.std()`: Compute standard deviation of columns.\n",
    "- `df.mad()`: Compute mean absolute deviation of columns.\n",
    "- `df.kurt()`: Compute kurtosis of columns.\n",
    "- `df.skew()`: Compute skewness of columns.\n",
    "\n",
    "### Visualization\n",
    "- `df.plot()`: Make plots of DataFrame using matplotlib.\n",
    "\n",
    "### Miscellaneous\n",
    "- `df.pivot()`: Produce pivot table based on 3 columns of this DataFrame.\n",
    "- `df.pivot_table()`: Create a spreadsheet-style pivot table as a DataFrame.\n",
    "- `df.apply()`: Apply a function along an axis of the DataFrame.\n",
    "- `df.applymap()`: Apply a function to a DataFrame elementwise.\n"
   ]
  },
  {
   "cell_type": "markdown",
   "metadata": {
    "tags": []
   },
   "source": [
    "## Data wrangling"
   ]
  },
  {
   "cell_type": "markdown",
   "metadata": {},
   "source": [
    "Let's explore the cybersecurity threat data using Pandas methods."
   ]
  },
  {
   "cell_type": "code",
   "execution_count": 1,
   "metadata": {},
   "outputs": [
    {
     "data": {
      "text/html": [
       "<div>\n",
       "<style scoped>\n",
       "    .dataframe tbody tr th:only-of-type {\n",
       "        vertical-align: middle;\n",
       "    }\n",
       "\n",
       "    .dataframe tbody tr th {\n",
       "        vertical-align: top;\n",
       "    }\n",
       "\n",
       "    .dataframe thead th {\n",
       "        text-align: right;\n",
       "    }\n",
       "</style>\n",
       "<table border=\"1\" class=\"dataframe\">\n",
       "  <thead>\n",
       "    <tr style=\"text-align: right;\">\n",
       "      <th></th>\n",
       "      <th>Country</th>\n",
       "      <th>Year</th>\n",
       "      <th>Attack Type</th>\n",
       "      <th>Target Industry</th>\n",
       "      <th>Financial Loss (in Million $)</th>\n",
       "      <th>Number of Affected Users</th>\n",
       "      <th>Attack Source</th>\n",
       "      <th>Security Vulnerability Type</th>\n",
       "      <th>Defense Mechanism Used</th>\n",
       "      <th>Incident Resolution Time (in Hours)</th>\n",
       "    </tr>\n",
       "  </thead>\n",
       "  <tbody>\n",
       "    <tr>\n",
       "      <th>0</th>\n",
       "      <td>China</td>\n",
       "      <td>2019</td>\n",
       "      <td>Phishing</td>\n",
       "      <td>Education</td>\n",
       "      <td>80.53</td>\n",
       "      <td>773169</td>\n",
       "      <td>Hacker Group</td>\n",
       "      <td>Unpatched Software</td>\n",
       "      <td>VPN</td>\n",
       "      <td>63</td>\n",
       "    </tr>\n",
       "    <tr>\n",
       "      <th>1</th>\n",
       "      <td>China</td>\n",
       "      <td>2019</td>\n",
       "      <td>Ransomware</td>\n",
       "      <td>Retail</td>\n",
       "      <td>62.19</td>\n",
       "      <td>295961</td>\n",
       "      <td>Hacker Group</td>\n",
       "      <td>Unpatched Software</td>\n",
       "      <td>Firewall</td>\n",
       "      <td>71</td>\n",
       "    </tr>\n",
       "    <tr>\n",
       "      <th>2</th>\n",
       "      <td>India</td>\n",
       "      <td>2017</td>\n",
       "      <td>Man-in-the-Middle</td>\n",
       "      <td>IT</td>\n",
       "      <td>38.65</td>\n",
       "      <td>605895</td>\n",
       "      <td>Hacker Group</td>\n",
       "      <td>Weak Passwords</td>\n",
       "      <td>VPN</td>\n",
       "      <td>20</td>\n",
       "    </tr>\n",
       "    <tr>\n",
       "      <th>3</th>\n",
       "      <td>UK</td>\n",
       "      <td>2024</td>\n",
       "      <td>Ransomware</td>\n",
       "      <td>Telecommunications</td>\n",
       "      <td>41.44</td>\n",
       "      <td>659320</td>\n",
       "      <td>Nation-state</td>\n",
       "      <td>Social Engineering</td>\n",
       "      <td>AI-based Detection</td>\n",
       "      <td>7</td>\n",
       "    </tr>\n",
       "    <tr>\n",
       "      <th>4</th>\n",
       "      <td>Germany</td>\n",
       "      <td>2018</td>\n",
       "      <td>Man-in-the-Middle</td>\n",
       "      <td>IT</td>\n",
       "      <td>74.41</td>\n",
       "      <td>810682</td>\n",
       "      <td>Insider</td>\n",
       "      <td>Social Engineering</td>\n",
       "      <td>VPN</td>\n",
       "      <td>68</td>\n",
       "    </tr>\n",
       "  </tbody>\n",
       "</table>\n",
       "</div>"
      ],
      "text/plain": [
       "   Country  Year        Attack Type     Target Industry  \\\n",
       "0    China  2019           Phishing           Education   \n",
       "1    China  2019         Ransomware              Retail   \n",
       "2    India  2017  Man-in-the-Middle                  IT   \n",
       "3       UK  2024         Ransomware  Telecommunications   \n",
       "4  Germany  2018  Man-in-the-Middle                  IT   \n",
       "\n",
       "   Financial Loss (in Million $)  Number of Affected Users Attack Source  \\\n",
       "0                          80.53                    773169  Hacker Group   \n",
       "1                          62.19                    295961  Hacker Group   \n",
       "2                          38.65                    605895  Hacker Group   \n",
       "3                          41.44                    659320  Nation-state   \n",
       "4                          74.41                    810682       Insider   \n",
       "\n",
       "  Security Vulnerability Type Defense Mechanism Used  \\\n",
       "0          Unpatched Software                    VPN   \n",
       "1          Unpatched Software               Firewall   \n",
       "2              Weak Passwords                    VPN   \n",
       "3          Social Engineering     AI-based Detection   \n",
       "4          Social Engineering                    VPN   \n",
       "\n",
       "   Incident Resolution Time (in Hours)  \n",
       "0                                   63  \n",
       "1                                   71  \n",
       "2                                   20  \n",
       "3                                    7  \n",
       "4                                   68  "
      ]
     },
     "execution_count": 1,
     "metadata": {},
     "output_type": "execute_result"
    }
   ],
   "source": [
    "import pandas as pd\n",
    "\n",
    "cyber_df = pd.read_csv('assets/Cybersecurity.csv')\n",
    "\n",
    "cyber_df.head()"
   ]
  },
  {
   "cell_type": "code",
   "execution_count": 2,
   "metadata": {
    "collapsed": true,
    "jupyter": {
     "outputs_hidden": true
    },
    "tags": []
   },
   "outputs": [
    {
     "data": {
      "text/html": [
       "<div>\n",
       "<style scoped>\n",
       "    .dataframe tbody tr th:only-of-type {\n",
       "        vertical-align: middle;\n",
       "    }\n",
       "\n",
       "    .dataframe tbody tr th {\n",
       "        vertical-align: top;\n",
       "    }\n",
       "\n",
       "    .dataframe thead th {\n",
       "        text-align: right;\n",
       "    }\n",
       "</style>\n",
       "<table border=\"1\" class=\"dataframe\">\n",
       "  <thead>\n",
       "    <tr style=\"text-align: right;\">\n",
       "      <th></th>\n",
       "      <th>Country</th>\n",
       "      <th>Year</th>\n",
       "      <th>Attack Type</th>\n",
       "      <th>Target Industry</th>\n",
       "      <th>Financial Loss (in Million $)</th>\n",
       "      <th>Number of Affected Users</th>\n",
       "      <th>Attack Source</th>\n",
       "      <th>Security Vulnerability Type</th>\n",
       "      <th>Defense Mechanism Used</th>\n",
       "      <th>Incident Resolution Time (in Hours)</th>\n",
       "    </tr>\n",
       "  </thead>\n",
       "  <tbody>\n",
       "    <tr>\n",
       "      <th>2995</th>\n",
       "      <td>UK</td>\n",
       "      <td>2021</td>\n",
       "      <td>Ransomware</td>\n",
       "      <td>Government</td>\n",
       "      <td>51.42</td>\n",
       "      <td>190694</td>\n",
       "      <td>Unknown</td>\n",
       "      <td>Social Engineering</td>\n",
       "      <td>Firewall</td>\n",
       "      <td>52</td>\n",
       "    </tr>\n",
       "    <tr>\n",
       "      <th>2996</th>\n",
       "      <td>Brazil</td>\n",
       "      <td>2023</td>\n",
       "      <td>SQL Injection</td>\n",
       "      <td>Telecommunications</td>\n",
       "      <td>30.28</td>\n",
       "      <td>892843</td>\n",
       "      <td>Hacker Group</td>\n",
       "      <td>Zero-day</td>\n",
       "      <td>VPN</td>\n",
       "      <td>26</td>\n",
       "    </tr>\n",
       "    <tr>\n",
       "      <th>2997</th>\n",
       "      <td>Brazil</td>\n",
       "      <td>2017</td>\n",
       "      <td>SQL Injection</td>\n",
       "      <td>IT</td>\n",
       "      <td>32.97</td>\n",
       "      <td>734737</td>\n",
       "      <td>Nation-state</td>\n",
       "      <td>Weak Passwords</td>\n",
       "      <td>AI-based Detection</td>\n",
       "      <td>30</td>\n",
       "    </tr>\n",
       "    <tr>\n",
       "      <th>2998</th>\n",
       "      <td>UK</td>\n",
       "      <td>2022</td>\n",
       "      <td>SQL Injection</td>\n",
       "      <td>IT</td>\n",
       "      <td>32.17</td>\n",
       "      <td>379954</td>\n",
       "      <td>Insider</td>\n",
       "      <td>Unpatched Software</td>\n",
       "      <td>Firewall</td>\n",
       "      <td>9</td>\n",
       "    </tr>\n",
       "    <tr>\n",
       "      <th>2999</th>\n",
       "      <td>Germany</td>\n",
       "      <td>2021</td>\n",
       "      <td>SQL Injection</td>\n",
       "      <td>Retail</td>\n",
       "      <td>48.20</td>\n",
       "      <td>480984</td>\n",
       "      <td>Unknown</td>\n",
       "      <td>Zero-day</td>\n",
       "      <td>VPN</td>\n",
       "      <td>64</td>\n",
       "    </tr>\n",
       "  </tbody>\n",
       "</table>\n",
       "</div>"
      ],
      "text/plain": [
       "      Country  Year    Attack Type     Target Industry  \\\n",
       "2995       UK  2021     Ransomware          Government   \n",
       "2996   Brazil  2023  SQL Injection  Telecommunications   \n",
       "2997   Brazil  2017  SQL Injection                  IT   \n",
       "2998       UK  2022  SQL Injection                  IT   \n",
       "2999  Germany  2021  SQL Injection              Retail   \n",
       "\n",
       "      Financial Loss (in Million $)  Number of Affected Users Attack Source  \\\n",
       "2995                          51.42                    190694       Unknown   \n",
       "2996                          30.28                    892843  Hacker Group   \n",
       "2997                          32.97                    734737  Nation-state   \n",
       "2998                          32.17                    379954       Insider   \n",
       "2999                          48.20                    480984       Unknown   \n",
       "\n",
       "     Security Vulnerability Type Defense Mechanism Used  \\\n",
       "2995          Social Engineering               Firewall   \n",
       "2996                    Zero-day                    VPN   \n",
       "2997              Weak Passwords     AI-based Detection   \n",
       "2998          Unpatched Software               Firewall   \n",
       "2999                    Zero-day                    VPN   \n",
       "\n",
       "      Incident Resolution Time (in Hours)  \n",
       "2995                                   52  \n",
       "2996                                   26  \n",
       "2997                                   30  \n",
       "2998                                    9  \n",
       "2999                                   64  "
      ]
     },
     "execution_count": 2,
     "metadata": {},
     "output_type": "execute_result"
    }
   ],
   "source": [
    "cyber_df.tail()"
   ]
  },
  {
   "cell_type": "code",
   "execution_count": 3,
   "metadata": {
    "tags": []
   },
   "outputs": [
    {
     "name": "stdout",
     "output_type": "stream",
     "text": [
      "<class 'pandas.core.frame.DataFrame'>\n",
      "RangeIndex: 3000 entries, 0 to 2999\n",
      "Data columns (total 10 columns):\n",
      " #   Column                               Non-Null Count  Dtype  \n",
      "---  ------                               --------------  -----  \n",
      " 0   Country                              3000 non-null   object \n",
      " 1   Year                                 3000 non-null   int64  \n",
      " 2   Attack Type                          3000 non-null   object \n",
      " 3   Target Industry                      3000 non-null   object \n",
      " 4   Financial Loss (in Million $)        3000 non-null   float64\n",
      " 5   Number of Affected Users             3000 non-null   int64  \n",
      " 6   Attack Source                        3000 non-null   object \n",
      " 7   Security Vulnerability Type          3000 non-null   object \n",
      " 8   Defense Mechanism Used               3000 non-null   object \n",
      " 9   Incident Resolution Time (in Hours)  3000 non-null   int64  \n",
      "dtypes: float64(1), int64(3), object(6)\n",
      "memory usage: 234.5+ KB\n"
     ]
    }
   ],
   "source": [
    "cyber_df.info()"
   ]
  },
  {
   "cell_type": "code",
   "execution_count": 4,
   "metadata": {
    "tags": []
   },
   "outputs": [
    {
     "data": {
      "text/plain": [
       "(3000, 10)"
      ]
     },
     "execution_count": 4,
     "metadata": {},
     "output_type": "execute_result"
    }
   ],
   "source": [
    "cyber_df.shape"
   ]
  },
  {
   "cell_type": "code",
   "execution_count": 5,
   "metadata": {
    "tags": []
   },
   "outputs": [
    {
     "data": {
      "text/html": [
       "<div>\n",
       "<style scoped>\n",
       "    .dataframe tbody tr th:only-of-type {\n",
       "        vertical-align: middle;\n",
       "    }\n",
       "\n",
       "    .dataframe tbody tr th {\n",
       "        vertical-align: top;\n",
       "    }\n",
       "\n",
       "    .dataframe thead th {\n",
       "        text-align: right;\n",
       "    }\n",
       "</style>\n",
       "<table border=\"1\" class=\"dataframe\">\n",
       "  <thead>\n",
       "    <tr style=\"text-align: right;\">\n",
       "      <th></th>\n",
       "      <th>Year</th>\n",
       "      <th>Financial Loss (in Million $)</th>\n",
       "      <th>Number of Affected Users</th>\n",
       "      <th>Incident Resolution Time (in Hours)</th>\n",
       "    </tr>\n",
       "  </thead>\n",
       "  <tbody>\n",
       "    <tr>\n",
       "      <th>count</th>\n",
       "      <td>3000.000000</td>\n",
       "      <td>3000.000000</td>\n",
       "      <td>3000.000000</td>\n",
       "      <td>3000.000000</td>\n",
       "    </tr>\n",
       "    <tr>\n",
       "      <th>mean</th>\n",
       "      <td>2019.570333</td>\n",
       "      <td>50.492970</td>\n",
       "      <td>504684.136333</td>\n",
       "      <td>36.476000</td>\n",
       "    </tr>\n",
       "    <tr>\n",
       "      <th>std</th>\n",
       "      <td>2.857932</td>\n",
       "      <td>28.791415</td>\n",
       "      <td>289944.084972</td>\n",
       "      <td>20.570768</td>\n",
       "    </tr>\n",
       "    <tr>\n",
       "      <th>min</th>\n",
       "      <td>2015.000000</td>\n",
       "      <td>0.500000</td>\n",
       "      <td>424.000000</td>\n",
       "      <td>1.000000</td>\n",
       "    </tr>\n",
       "    <tr>\n",
       "      <th>25%</th>\n",
       "      <td>2017.000000</td>\n",
       "      <td>25.757500</td>\n",
       "      <td>255805.250000</td>\n",
       "      <td>19.000000</td>\n",
       "    </tr>\n",
       "    <tr>\n",
       "      <th>50%</th>\n",
       "      <td>2020.000000</td>\n",
       "      <td>50.795000</td>\n",
       "      <td>504513.000000</td>\n",
       "      <td>37.000000</td>\n",
       "    </tr>\n",
       "    <tr>\n",
       "      <th>75%</th>\n",
       "      <td>2022.000000</td>\n",
       "      <td>75.630000</td>\n",
       "      <td>758088.500000</td>\n",
       "      <td>55.000000</td>\n",
       "    </tr>\n",
       "    <tr>\n",
       "      <th>max</th>\n",
       "      <td>2024.000000</td>\n",
       "      <td>99.990000</td>\n",
       "      <td>999635.000000</td>\n",
       "      <td>72.000000</td>\n",
       "    </tr>\n",
       "  </tbody>\n",
       "</table>\n",
       "</div>"
      ],
      "text/plain": [
       "              Year  Financial Loss (in Million $)  Number of Affected Users  \\\n",
       "count  3000.000000                    3000.000000               3000.000000   \n",
       "mean   2019.570333                      50.492970             504684.136333   \n",
       "std       2.857932                      28.791415             289944.084972   \n",
       "min    2015.000000                       0.500000                424.000000   \n",
       "25%    2017.000000                      25.757500             255805.250000   \n",
       "50%    2020.000000                      50.795000             504513.000000   \n",
       "75%    2022.000000                      75.630000             758088.500000   \n",
       "max    2024.000000                      99.990000             999635.000000   \n",
       "\n",
       "       Incident Resolution Time (in Hours)  \n",
       "count                          3000.000000  \n",
       "mean                             36.476000  \n",
       "std                              20.570768  \n",
       "min                               1.000000  \n",
       "25%                              19.000000  \n",
       "50%                              37.000000  \n",
       "75%                              55.000000  \n",
       "max                              72.000000  "
      ]
     },
     "execution_count": 5,
     "metadata": {},
     "output_type": "execute_result"
    }
   ],
   "source": [
    "cyber_df.describe()"
   ]
  },
  {
   "cell_type": "code",
   "execution_count": 6,
   "metadata": {
    "tags": []
   },
   "outputs": [
    {
     "data": {
      "text/html": [
       "<div>\n",
       "<style scoped>\n",
       "    .dataframe tbody tr th:only-of-type {\n",
       "        vertical-align: middle;\n",
       "    }\n",
       "\n",
       "    .dataframe tbody tr th {\n",
       "        vertical-align: top;\n",
       "    }\n",
       "\n",
       "    .dataframe thead th {\n",
       "        text-align: right;\n",
       "    }\n",
       "</style>\n",
       "<table border=\"1\" class=\"dataframe\">\n",
       "  <thead>\n",
       "    <tr style=\"text-align: right;\">\n",
       "      <th></th>\n",
       "      <th>Country</th>\n",
       "      <th>Attack Type</th>\n",
       "      <th>Target Industry</th>\n",
       "      <th>Attack Source</th>\n",
       "      <th>Security Vulnerability Type</th>\n",
       "      <th>Defense Mechanism Used</th>\n",
       "    </tr>\n",
       "  </thead>\n",
       "  <tbody>\n",
       "    <tr>\n",
       "      <th>count</th>\n",
       "      <td>3000</td>\n",
       "      <td>3000</td>\n",
       "      <td>3000</td>\n",
       "      <td>3000</td>\n",
       "      <td>3000</td>\n",
       "      <td>3000</td>\n",
       "    </tr>\n",
       "    <tr>\n",
       "      <th>unique</th>\n",
       "      <td>10</td>\n",
       "      <td>6</td>\n",
       "      <td>7</td>\n",
       "      <td>4</td>\n",
       "      <td>4</td>\n",
       "      <td>5</td>\n",
       "    </tr>\n",
       "    <tr>\n",
       "      <th>top</th>\n",
       "      <td>UK</td>\n",
       "      <td>DDoS</td>\n",
       "      <td>IT</td>\n",
       "      <td>Nation-state</td>\n",
       "      <td>Zero-day</td>\n",
       "      <td>Antivirus</td>\n",
       "    </tr>\n",
       "    <tr>\n",
       "      <th>freq</th>\n",
       "      <td>321</td>\n",
       "      <td>531</td>\n",
       "      <td>478</td>\n",
       "      <td>794</td>\n",
       "      <td>785</td>\n",
       "      <td>628</td>\n",
       "    </tr>\n",
       "  </tbody>\n",
       "</table>\n",
       "</div>"
      ],
      "text/plain": [
       "       Country Attack Type Target Industry Attack Source  \\\n",
       "count     3000        3000            3000          3000   \n",
       "unique      10           6               7             4   \n",
       "top         UK        DDoS              IT  Nation-state   \n",
       "freq       321         531             478           794   \n",
       "\n",
       "       Security Vulnerability Type Defense Mechanism Used  \n",
       "count                         3000                   3000  \n",
       "unique                           4                      5  \n",
       "top                       Zero-day              Antivirus  \n",
       "freq                           785                    628  "
      ]
     },
     "execution_count": 6,
     "metadata": {},
     "output_type": "execute_result"
    }
   ],
   "source": [
    "cyber_df.describe(include='object')"
   ]
  },
  {
   "cell_type": "code",
   "execution_count": 7,
   "metadata": {
    "tags": []
   },
   "outputs": [
    {
     "data": {
      "text/html": [
       "<div>\n",
       "<style scoped>\n",
       "    .dataframe tbody tr th:only-of-type {\n",
       "        vertical-align: middle;\n",
       "    }\n",
       "\n",
       "    .dataframe tbody tr th {\n",
       "        vertical-align: top;\n",
       "    }\n",
       "\n",
       "    .dataframe thead th {\n",
       "        text-align: right;\n",
       "    }\n",
       "</style>\n",
       "<table border=\"1\" class=\"dataframe\">\n",
       "  <thead>\n",
       "    <tr style=\"text-align: right;\">\n",
       "      <th></th>\n",
       "      <th>Country</th>\n",
       "      <th>Year</th>\n",
       "      <th>Attack Type</th>\n",
       "      <th>Target Industry</th>\n",
       "      <th>Financial Loss (in Million $)</th>\n",
       "      <th>Number of Affected Users</th>\n",
       "      <th>Attack Source</th>\n",
       "      <th>Security Vulnerability Type</th>\n",
       "      <th>Defense Mechanism Used</th>\n",
       "      <th>Incident Resolution Time (in Hours)</th>\n",
       "    </tr>\n",
       "  </thead>\n",
       "  <tbody>\n",
       "    <tr>\n",
       "      <th>0</th>\n",
       "      <td>False</td>\n",
       "      <td>False</td>\n",
       "      <td>False</td>\n",
       "      <td>False</td>\n",
       "      <td>False</td>\n",
       "      <td>False</td>\n",
       "      <td>False</td>\n",
       "      <td>False</td>\n",
       "      <td>False</td>\n",
       "      <td>False</td>\n",
       "    </tr>\n",
       "    <tr>\n",
       "      <th>1</th>\n",
       "      <td>False</td>\n",
       "      <td>False</td>\n",
       "      <td>False</td>\n",
       "      <td>False</td>\n",
       "      <td>False</td>\n",
       "      <td>False</td>\n",
       "      <td>False</td>\n",
       "      <td>False</td>\n",
       "      <td>False</td>\n",
       "      <td>False</td>\n",
       "    </tr>\n",
       "    <tr>\n",
       "      <th>2</th>\n",
       "      <td>False</td>\n",
       "      <td>False</td>\n",
       "      <td>False</td>\n",
       "      <td>False</td>\n",
       "      <td>False</td>\n",
       "      <td>False</td>\n",
       "      <td>False</td>\n",
       "      <td>False</td>\n",
       "      <td>False</td>\n",
       "      <td>False</td>\n",
       "    </tr>\n",
       "    <tr>\n",
       "      <th>3</th>\n",
       "      <td>False</td>\n",
       "      <td>False</td>\n",
       "      <td>False</td>\n",
       "      <td>False</td>\n",
       "      <td>False</td>\n",
       "      <td>False</td>\n",
       "      <td>False</td>\n",
       "      <td>False</td>\n",
       "      <td>False</td>\n",
       "      <td>False</td>\n",
       "    </tr>\n",
       "    <tr>\n",
       "      <th>4</th>\n",
       "      <td>False</td>\n",
       "      <td>False</td>\n",
       "      <td>False</td>\n",
       "      <td>False</td>\n",
       "      <td>False</td>\n",
       "      <td>False</td>\n",
       "      <td>False</td>\n",
       "      <td>False</td>\n",
       "      <td>False</td>\n",
       "      <td>False</td>\n",
       "    </tr>\n",
       "    <tr>\n",
       "      <th>...</th>\n",
       "      <td>...</td>\n",
       "      <td>...</td>\n",
       "      <td>...</td>\n",
       "      <td>...</td>\n",
       "      <td>...</td>\n",
       "      <td>...</td>\n",
       "      <td>...</td>\n",
       "      <td>...</td>\n",
       "      <td>...</td>\n",
       "      <td>...</td>\n",
       "    </tr>\n",
       "    <tr>\n",
       "      <th>2995</th>\n",
       "      <td>False</td>\n",
       "      <td>False</td>\n",
       "      <td>False</td>\n",
       "      <td>False</td>\n",
       "      <td>False</td>\n",
       "      <td>False</td>\n",
       "      <td>False</td>\n",
       "      <td>False</td>\n",
       "      <td>False</td>\n",
       "      <td>False</td>\n",
       "    </tr>\n",
       "    <tr>\n",
       "      <th>2996</th>\n",
       "      <td>False</td>\n",
       "      <td>False</td>\n",
       "      <td>False</td>\n",
       "      <td>False</td>\n",
       "      <td>False</td>\n",
       "      <td>False</td>\n",
       "      <td>False</td>\n",
       "      <td>False</td>\n",
       "      <td>False</td>\n",
       "      <td>False</td>\n",
       "    </tr>\n",
       "    <tr>\n",
       "      <th>2997</th>\n",
       "      <td>False</td>\n",
       "      <td>False</td>\n",
       "      <td>False</td>\n",
       "      <td>False</td>\n",
       "      <td>False</td>\n",
       "      <td>False</td>\n",
       "      <td>False</td>\n",
       "      <td>False</td>\n",
       "      <td>False</td>\n",
       "      <td>False</td>\n",
       "    </tr>\n",
       "    <tr>\n",
       "      <th>2998</th>\n",
       "      <td>False</td>\n",
       "      <td>False</td>\n",
       "      <td>False</td>\n",
       "      <td>False</td>\n",
       "      <td>False</td>\n",
       "      <td>False</td>\n",
       "      <td>False</td>\n",
       "      <td>False</td>\n",
       "      <td>False</td>\n",
       "      <td>False</td>\n",
       "    </tr>\n",
       "    <tr>\n",
       "      <th>2999</th>\n",
       "      <td>False</td>\n",
       "      <td>False</td>\n",
       "      <td>False</td>\n",
       "      <td>False</td>\n",
       "      <td>False</td>\n",
       "      <td>False</td>\n",
       "      <td>False</td>\n",
       "      <td>False</td>\n",
       "      <td>False</td>\n",
       "      <td>False</td>\n",
       "    </tr>\n",
       "  </tbody>\n",
       "</table>\n",
       "<p>3000 rows × 10 columns</p>\n",
       "</div>"
      ],
      "text/plain": [
       "      Country   Year  Attack Type  Target Industry  \\\n",
       "0       False  False        False            False   \n",
       "1       False  False        False            False   \n",
       "2       False  False        False            False   \n",
       "3       False  False        False            False   \n",
       "4       False  False        False            False   \n",
       "...       ...    ...          ...              ...   \n",
       "2995    False  False        False            False   \n",
       "2996    False  False        False            False   \n",
       "2997    False  False        False            False   \n",
       "2998    False  False        False            False   \n",
       "2999    False  False        False            False   \n",
       "\n",
       "      Financial Loss (in Million $)  Number of Affected Users  Attack Source  \\\n",
       "0                             False                     False          False   \n",
       "1                             False                     False          False   \n",
       "2                             False                     False          False   \n",
       "3                             False                     False          False   \n",
       "4                             False                     False          False   \n",
       "...                             ...                       ...            ...   \n",
       "2995                          False                     False          False   \n",
       "2996                          False                     False          False   \n",
       "2997                          False                     False          False   \n",
       "2998                          False                     False          False   \n",
       "2999                          False                     False          False   \n",
       "\n",
       "      Security Vulnerability Type  Defense Mechanism Used  \\\n",
       "0                           False                   False   \n",
       "1                           False                   False   \n",
       "2                           False                   False   \n",
       "3                           False                   False   \n",
       "4                           False                   False   \n",
       "...                           ...                     ...   \n",
       "2995                        False                   False   \n",
       "2996                        False                   False   \n",
       "2997                        False                   False   \n",
       "2998                        False                   False   \n",
       "2999                        False                   False   \n",
       "\n",
       "      Incident Resolution Time (in Hours)  \n",
       "0                                   False  \n",
       "1                                   False  \n",
       "2                                   False  \n",
       "3                                   False  \n",
       "4                                   False  \n",
       "...                                   ...  \n",
       "2995                                False  \n",
       "2996                                False  \n",
       "2997                                False  \n",
       "2998                                False  \n",
       "2999                                False  \n",
       "\n",
       "[3000 rows x 10 columns]"
      ]
     },
     "execution_count": 7,
     "metadata": {},
     "output_type": "execute_result"
    }
   ],
   "source": [
    "cyber_df.isnull()"
   ]
  },
  {
   "cell_type": "code",
   "execution_count": 8,
   "metadata": {
    "tags": []
   },
   "outputs": [
    {
     "data": {
      "text/plain": [
       "Country                                0\n",
       "Year                                   0\n",
       "Attack Type                            0\n",
       "Target Industry                        0\n",
       "Financial Loss (in Million $)          0\n",
       "Number of Affected Users               0\n",
       "Attack Source                          0\n",
       "Security Vulnerability Type            0\n",
       "Defense Mechanism Used                 0\n",
       "Incident Resolution Time (in Hours)    0\n",
       "dtype: int64"
      ]
     },
     "execution_count": 8,
     "metadata": {},
     "output_type": "execute_result"
    }
   ],
   "source": [
    "cyber_df.isnull().sum()\n"
   ]
  },
  {
   "cell_type": "code",
   "execution_count": 9,
   "metadata": {
    "tags": []
   },
   "outputs": [
    {
     "data": {
      "text/html": [
       "<div>\n",
       "<style scoped>\n",
       "    .dataframe tbody tr th:only-of-type {\n",
       "        vertical-align: middle;\n",
       "    }\n",
       "\n",
       "    .dataframe tbody tr th {\n",
       "        vertical-align: top;\n",
       "    }\n",
       "\n",
       "    .dataframe thead th {\n",
       "        text-align: right;\n",
       "    }\n",
       "</style>\n",
       "<table border=\"1\" class=\"dataframe\">\n",
       "  <thead>\n",
       "    <tr style=\"text-align: right;\">\n",
       "      <th></th>\n",
       "      <th>PassengerId</th>\n",
       "      <th>Survived</th>\n",
       "      <th>Pclass</th>\n",
       "      <th>Name</th>\n",
       "      <th>Sex</th>\n",
       "      <th>Age</th>\n",
       "      <th>SibSp</th>\n",
       "      <th>Parch</th>\n",
       "      <th>Ticket</th>\n",
       "      <th>Fare</th>\n",
       "      <th>Cabin</th>\n",
       "      <th>Embarked</th>\n",
       "    </tr>\n",
       "  </thead>\n",
       "  <tbody>\n",
       "    <tr>\n",
       "      <th>0</th>\n",
       "      <td>1</td>\n",
       "      <td>0</td>\n",
       "      <td>3</td>\n",
       "      <td>Braund, Mr. Owen Harris</td>\n",
       "      <td>male</td>\n",
       "      <td>22.0</td>\n",
       "      <td>1</td>\n",
       "      <td>0</td>\n",
       "      <td>A/5 21171</td>\n",
       "      <td>7.2500</td>\n",
       "      <td>NaN</td>\n",
       "      <td>S</td>\n",
       "    </tr>\n",
       "    <tr>\n",
       "      <th>1</th>\n",
       "      <td>2</td>\n",
       "      <td>1</td>\n",
       "      <td>1</td>\n",
       "      <td>Cumings, Mrs. John Bradley (Florence Briggs Th...</td>\n",
       "      <td>female</td>\n",
       "      <td>38.0</td>\n",
       "      <td>1</td>\n",
       "      <td>0</td>\n",
       "      <td>PC 17599</td>\n",
       "      <td>71.2833</td>\n",
       "      <td>C85</td>\n",
       "      <td>C</td>\n",
       "    </tr>\n",
       "    <tr>\n",
       "      <th>2</th>\n",
       "      <td>3</td>\n",
       "      <td>1</td>\n",
       "      <td>3</td>\n",
       "      <td>Heikkinen, Miss. Laina</td>\n",
       "      <td>female</td>\n",
       "      <td>26.0</td>\n",
       "      <td>0</td>\n",
       "      <td>0</td>\n",
       "      <td>STON/O2. 3101282</td>\n",
       "      <td>7.9250</td>\n",
       "      <td>NaN</td>\n",
       "      <td>S</td>\n",
       "    </tr>\n",
       "    <tr>\n",
       "      <th>3</th>\n",
       "      <td>4</td>\n",
       "      <td>1</td>\n",
       "      <td>1</td>\n",
       "      <td>Futrelle, Mrs. Jacques Heath (Lily May Peel)</td>\n",
       "      <td>female</td>\n",
       "      <td>35.0</td>\n",
       "      <td>1</td>\n",
       "      <td>0</td>\n",
       "      <td>113803</td>\n",
       "      <td>53.1000</td>\n",
       "      <td>C123</td>\n",
       "      <td>S</td>\n",
       "    </tr>\n",
       "    <tr>\n",
       "      <th>4</th>\n",
       "      <td>5</td>\n",
       "      <td>0</td>\n",
       "      <td>3</td>\n",
       "      <td>Allen, Mr. William Henry</td>\n",
       "      <td>male</td>\n",
       "      <td>35.0</td>\n",
       "      <td>0</td>\n",
       "      <td>0</td>\n",
       "      <td>373450</td>\n",
       "      <td>8.0500</td>\n",
       "      <td>NaN</td>\n",
       "      <td>S</td>\n",
       "    </tr>\n",
       "  </tbody>\n",
       "</table>\n",
       "</div>"
      ],
      "text/plain": [
       "   PassengerId  Survived  Pclass  \\\n",
       "0            1         0       3   \n",
       "1            2         1       1   \n",
       "2            3         1       3   \n",
       "3            4         1       1   \n",
       "4            5         0       3   \n",
       "\n",
       "                                                Name     Sex   Age  SibSp  \\\n",
       "0                            Braund, Mr. Owen Harris    male  22.0      1   \n",
       "1  Cumings, Mrs. John Bradley (Florence Briggs Th...  female  38.0      1   \n",
       "2                             Heikkinen, Miss. Laina  female  26.0      0   \n",
       "3       Futrelle, Mrs. Jacques Heath (Lily May Peel)  female  35.0      1   \n",
       "4                           Allen, Mr. William Henry    male  35.0      0   \n",
       "\n",
       "   Parch            Ticket     Fare Cabin Embarked  \n",
       "0      0         A/5 21171   7.2500   NaN        S  \n",
       "1      0          PC 17599  71.2833   C85        C  \n",
       "2      0  STON/O2. 3101282   7.9250   NaN        S  \n",
       "3      0            113803  53.1000  C123        S  \n",
       "4      0            373450   8.0500   NaN        S  "
      ]
     },
     "execution_count": 9,
     "metadata": {},
     "output_type": "execute_result"
    }
   ],
   "source": [
    "titanic_df = pd.read_csv('assets/titanic_passengers.csv')\n",
    "\n",
    "titanic_df.head()"
   ]
  },
  {
   "cell_type": "code",
   "execution_count": 11,
   "metadata": {
    "tags": []
   },
   "outputs": [
    {
     "data": {
      "text/plain": [
       "PassengerId      0\n",
       "Survived         0\n",
       "Pclass           0\n",
       "Name             0\n",
       "Sex              0\n",
       "Age            177\n",
       "SibSp            0\n",
       "Parch            0\n",
       "Ticket           0\n",
       "Fare             0\n",
       "Cabin          687\n",
       "Embarked         2\n",
       "dtype: int64"
      ]
     },
     "execution_count": 11,
     "metadata": {},
     "output_type": "execute_result"
    }
   ],
   "source": [
    "titanic_df.isnull().sum()"
   ]
  },
  {
   "cell_type": "code",
   "execution_count": null,
   "metadata": {
    "tags": []
   },
   "outputs": [],
   "source": []
  },
  {
   "cell_type": "code",
   "execution_count": null,
   "metadata": {
    "tags": []
   },
   "outputs": [],
   "source": []
  },
  {
   "cell_type": "code",
   "execution_count": null,
   "metadata": {
    "tags": []
   },
   "outputs": [],
   "source": []
  },
  {
   "cell_type": "code",
   "execution_count": null,
   "metadata": {},
   "outputs": [],
   "source": []
  },
  {
   "cell_type": "markdown",
   "metadata": {},
   "source": [
    "Let's create a subset that just includes attacks in education."
   ]
  },
  {
   "cell_type": "code",
   "execution_count": null,
   "metadata": {
    "tags": []
   },
   "outputs": [],
   "source": []
  },
  {
   "cell_type": "code",
   "execution_count": null,
   "metadata": {
    "tags": []
   },
   "outputs": [],
   "source": []
  },
  {
   "cell_type": "code",
   "execution_count": null,
   "metadata": {
    "tags": []
   },
   "outputs": [],
   "source": []
  },
  {
   "cell_type": "code",
   "execution_count": null,
   "metadata": {
    "tags": []
   },
   "outputs": [],
   "source": []
  },
  {
   "cell_type": "markdown",
   "metadata": {},
   "source": [
    "Let's create a new feature where we categorize incident resolution time as > 24 hours or <=24 hours"
   ]
  },
  {
   "cell_type": "code",
   "execution_count": null,
   "metadata": {
    "tags": []
   },
   "outputs": [],
   "source": []
  },
  {
   "cell_type": "code",
   "execution_count": null,
   "metadata": {
    "tags": []
   },
   "outputs": [],
   "source": []
  },
  {
   "cell_type": "code",
   "execution_count": null,
   "metadata": {
    "tags": []
   },
   "outputs": [],
   "source": []
  },
  {
   "cell_type": "markdown",
   "metadata": {},
   "source": [
    "Sort the dataframe by 'Number of Affected Users' in descending order"
   ]
  },
  {
   "cell_type": "code",
   "execution_count": null,
   "metadata": {
    "tags": []
   },
   "outputs": [],
   "source": []
  },
  {
   "cell_type": "code",
   "execution_count": null,
   "metadata": {
    "tags": []
   },
   "outputs": [],
   "source": []
  },
  {
   "cell_type": "code",
   "execution_count": null,
   "metadata": {
    "tags": []
   },
   "outputs": [],
   "source": []
  },
  {
   "cell_type": "code",
   "execution_count": null,
   "metadata": {
    "tags": []
   },
   "outputs": [],
   "source": []
  },
  {
   "cell_type": "markdown",
   "metadata": {},
   "source": [
    "Calculate the average number of affected users by attack type."
   ]
  },
  {
   "cell_type": "code",
   "execution_count": null,
   "metadata": {
    "tags": []
   },
   "outputs": [],
   "source": []
  },
  {
   "cell_type": "code",
   "execution_count": null,
   "metadata": {
    "tags": []
   },
   "outputs": [],
   "source": []
  },
  {
   "cell_type": "code",
   "execution_count": null,
   "metadata": {
    "tags": []
   },
   "outputs": [],
   "source": []
  },
  {
   "cell_type": "code",
   "execution_count": null,
   "metadata": {
    "tags": []
   },
   "outputs": [],
   "source": []
  },
  {
   "cell_type": "code",
   "execution_count": null,
   "metadata": {
    "tags": []
   },
   "outputs": [],
   "source": []
  },
  {
   "cell_type": "markdown",
   "metadata": {},
   "source": [
    "## The case for using AI\n"
   ]
  },
  {
   "cell_type": "markdown",
   "metadata": {},
   "source": [
    "When is using AI a good idea?"
   ]
  },
  {
   "cell_type": "markdown",
   "metadata": {},
   "source": []
  },
  {
   "cell_type": "markdown",
   "metadata": {},
   "source": [
    "When is using AI a bad idea?"
   ]
  },
  {
   "cell_type": "code",
   "execution_count": null,
   "metadata": {
    "tags": []
   },
   "outputs": [],
   "source": [
    "\n"
   ]
  },
  {
   "cell_type": "code",
   "execution_count": null,
   "metadata": {
    "tags": []
   },
   "outputs": [],
   "source": []
  },
  {
   "cell_type": "code",
   "execution_count": null,
   "metadata": {
    "tags": []
   },
   "outputs": [],
   "source": []
  },
  {
   "cell_type": "code",
   "execution_count": null,
   "metadata": {
    "tags": []
   },
   "outputs": [],
   "source": []
  },
  {
   "cell_type": "markdown",
   "metadata": {},
   "source": [
    "## Asking interesting questions\n",
    "\n",
    "What are 5 interesting questions we can ask about our data?\n",
    "\n",
    "How can we use AI to help us write Pandas to answer them?"
   ]
  }
 ],
 "metadata": {
  "anaconda-cloud": {},
  "kernelspec": {
   "display_name": "Python [conda env:base] *",
   "language": "python",
   "name": "conda-base-py"
  },
  "language_info": {
   "codemirror_mode": {
    "name": "ipython",
    "version": 3
   },
   "file_extension": ".py",
   "mimetype": "text/x-python",
   "name": "python",
   "nbconvert_exporter": "python",
   "pygments_lexer": "ipython3",
   "version": "3.13.5"
  },
  "vscode": {
   "interpreter": {
    "hash": "ce119b89bc2e74c761eac86109834d120346842bff8d13cbadf57b85ac0c1fd2"
   }
  }
 },
 "nbformat": 4,
 "nbformat_minor": 4
}
